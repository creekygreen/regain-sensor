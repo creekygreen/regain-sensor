{
 "cells": [
  {
   "cell_type": "code",
   "execution_count": null,
   "metadata": {
    "executionInfo": {
     "elapsed": 5063,
     "status": "ok",
     "timestamp": 1731996907947,
     "user": {
      "displayName": "Creeky Green",
      "userId": "07993017875343551631"
     },
     "user_tz": -480
    },
    "id": "kCMnbizlzc9j"
   },
   "outputs": [],
   "source": [
    "import pandas as pd\n",
    "import os\n",
    "from sklearn.model_selection import train_test_split\n",
    "from sklearn.ensemble import RandomForestClassifier\n",
    "from sklearn.metrics import accuracy_score"
   ]
  },
  {
   "cell_type": "code",
   "execution_count": null,
   "metadata": {
    "executionInfo": {
     "elapsed": 6,
     "status": "aborted",
     "timestamp": 1731996914564,
     "user": {
      "displayName": "Creeky Green",
      "userId": "07993017875343551631"
     },
     "user_tz": -480
    },
    "id": "l_8NuG931g_w"
   },
   "outputs": [],
   "source": [
    "# Define the dataset\n",
    "df = pd.read_csv('mpu6050_data.csv')"
   ]
  },
  {
   "cell_type": "code",
   "execution_count": null,
   "metadata": {
    "executionInfo": {
     "elapsed": 6,
     "status": "aborted",
     "timestamp": 1731996914564,
     "user": {
      "displayName": "Creeky Green",
      "userId": "07993017875343551631"
     },
     "user_tz": -480
    },
    "id": "LZH-clwO10xg"
   },
   "outputs": [],
   "source": [
    "# Extract features and labels\n",
    "X = df[['Thigh Angle', 'Shin Angle', 'Knee Angle']]  # Features\n",
    "y = df['Phase']  # Label (the target you're predicting)\n",
    "\n",
    "# Split the data into training and testing sets (80% train, 20% test)\n",
    "X_train, X_test, y_train, y_test = train_test_split(X, y, test_size=0.2, random_state=42)\n",
    "\n",
    "# Initialize the Random Forest classifier\n",
    "rf = RandomForestClassifier(random_state=42)\n",
    "\n",
    "# Train the model\n",
    "rf.fit(X_train, y_train)\n",
    "\n",
    "# Make predictions\n",
    "y_pred = rf.predict(X_test)\n",
    "\n",
    "# Calculate the accuracy\n",
    "accuracy = accuracy_score(y_test, y_pred)\n",
    "\n",
    "# Print the accuracy\n",
    "print(f'Accuracy: {accuracy * 100:.2f}%')"
   ]
  },
  {
   "cell_type": "code",
   "execution_count": null,
   "metadata": {
    "executionInfo": {
     "elapsed": 5,
     "status": "aborted",
     "timestamp": 1731996914564,
     "user": {
      "displayName": "Creeky Green",
      "userId": "07993017875343551631"
     },
     "user_tz": -480
    },
    "id": "FnsAJLRG32NZ"
   },
   "outputs": [],
   "source": [
    "# New data to test the model (ensure this has the same format as the training data)\n",
    "new_data = pd.DataFrame({\n",
    "    'Thigh Angle': [-2, 16, -6],  # Example angles for new data\n",
    "    'Shin Angle': [55, 47, -7],\n",
    "    'Knee Angle': [20, 31, 1]\n",
    "})\n",
    "\n",
    "# Use the trained model to predict the 'Phase' for the new data\n",
    "predicted_phases = rf.predict(new_data)\n",
    "\n",
    "# Output the predictions\n",
    "print(f'Predicted Phases: {predicted_phases}')"
   ]
  }
 ],
 "metadata": {
  "colab": {
   "provenance": []
  },
  "kernelspec": {
   "display_name": "Python 3",
   "name": "python3"
  },
  "language_info": {
   "name": "python"
  }
 },
 "nbformat": 4,
 "nbformat_minor": 0
}
